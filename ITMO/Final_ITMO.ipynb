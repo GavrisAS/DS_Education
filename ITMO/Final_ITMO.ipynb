{
 "cells": [
  {
   "cell_type": "markdown",
   "source": [
    "# Финальный проект"
   ],
   "metadata": {
    "collapsed": false
   }
  },
  {
   "cell_type": "markdown",
   "source": [
    "Задача заключается в прогнозировании оттока клиентов.\n",
    "Данные об оттоке клиентов записаны в файл Verizon.csv.\n",
    "Новые данные дл получения прогнозных вероятностей оттока в файле Verizon_new.csv\n",
    "\n",
    "По каждому клиенту (наблюдению) фиксируются следующие переменные:\n",
    "- Длительность междугородних звонков - `longdist`\n",
    "- Длительность международных звонков - `internat`\n",
    "- Длительность местных звонков - `local`\n",
    "- Скидка на интернет - `int_disc`\n",
    "- Тип счета - `billtype`\n",
    "- Способ оплаты - `pay`\n",
    "- Возраст клиента - `age`\n",
    "- Пол клиента - `gender`\n",
    "- Семейное положение клиента - `marital`\n",
    "- Количество детей у клиента - `children`\n",
    "- Доход клиента - `income`\n",
    "- Отток клиента - `churn`"
   ],
   "metadata": {
    "collapsed": false
   }
  },
  {
   "cell_type": "code",
   "execution_count": 1,
   "metadata": {
    "collapsed": true
   },
   "outputs": [],
   "source": [
    "import numpy as np\n",
    "import pandas as pd\n",
    "import matplotlib.pyplot as plt\n",
    "from sklearn.model_selection import (train_test_split,\n",
    "                                     GridSearchCV)\n",
    "from sklearn.compose import ColumnTransformer\n",
    "from sklearn.pipeline import Pipeline\n",
    "from sklearn.impute import SimpleImputer\n",
    "# Импортируем класс PowerTransformer, позволяющий выполнить\n",
    "# преобразование Бокса-Кокса и стандартизацию\n",
    "from sklearn.preprocessing import (PowerTransformer,\n",
    "                                   OneHotEncoder)\n",
    "from sklearn.linear_model import LogisticRegression\n",
    "from sklearn.metrics import roc_auc_score, roc_curve\n",
    "from IPython.display import display\n",
    "from tqdm.notebook import tqdm\n",
    "from matplotlib.cm import tab10, tab20\n",
    "\n",
    "from matplotlib import pyplot\n",
    "%matplotlib inline\n",
    "%config InlineBackend.figure_format = 'retina'\n",
    "\n",
    "pd.set_option('display.max_columns', None)\n",
    "\n",
    "import warnings\n",
    "warnings.filterwarnings(\"ignore\")\n",
    "\n",
    "SEED = 42"
   ]
  },
  {
   "cell_type": "code",
   "execution_count": 2,
   "outputs": [],
   "source": [
    "data = pd.read_csv('Verizon.csv', sep=';')"
   ],
   "metadata": {
    "collapsed": false
   }
  },
  {
   "cell_type": "code",
   "execution_count": 3,
   "outputs": [
    {
     "data": {
      "text/plain": "  longdist internat   local int_disc    billtype  pay   age     gender  \\\n0     8.62      NaN    8.49      Нет   Бюджетный   CH  43.0    Мужской   \n1    21.27      0.0  218,12      Нет   Бюджетный   CH  60.0        NaN   \n2     6,13      0.0     NaN       Да         NaN  NaN  25.0    Женский   \n3    16.46      0.0   57,66       Да  Бесплатный  NaN  93.0    Женский   \n4      NaN      0.0   16,01       Да  Бесплатный   CC  68.0  Женский&*   \n\n     marital  children   income  churn  \n0     _Женат       0.0  33935.8      0  \n1  _Одинокий       2.0  95930,6      1  \n2        NaN       2.0   295,34      1  \n3   Одинокий       0.0      NaN      1  \n4        NaN       0.0  99832,9      1  ",
      "text/html": "<div>\n<style scoped>\n    .dataframe tbody tr th:only-of-type {\n        vertical-align: middle;\n    }\n\n    .dataframe tbody tr th {\n        vertical-align: top;\n    }\n\n    .dataframe thead th {\n        text-align: right;\n    }\n</style>\n<table border=\"1\" class=\"dataframe\">\n  <thead>\n    <tr style=\"text-align: right;\">\n      <th></th>\n      <th>longdist</th>\n      <th>internat</th>\n      <th>local</th>\n      <th>int_disc</th>\n      <th>billtype</th>\n      <th>pay</th>\n      <th>age</th>\n      <th>gender</th>\n      <th>marital</th>\n      <th>children</th>\n      <th>income</th>\n      <th>churn</th>\n    </tr>\n  </thead>\n  <tbody>\n    <tr>\n      <th>0</th>\n      <td>8.62</td>\n      <td>NaN</td>\n      <td>8.49</td>\n      <td>Нет</td>\n      <td>Бюджетный</td>\n      <td>CH</td>\n      <td>43.0</td>\n      <td>Мужской</td>\n      <td>_Женат</td>\n      <td>0.0</td>\n      <td>33935.8</td>\n      <td>0</td>\n    </tr>\n    <tr>\n      <th>1</th>\n      <td>21.27</td>\n      <td>0.0</td>\n      <td>218,12</td>\n      <td>Нет</td>\n      <td>Бюджетный</td>\n      <td>CH</td>\n      <td>60.0</td>\n      <td>NaN</td>\n      <td>_Одинокий</td>\n      <td>2.0</td>\n      <td>95930,6</td>\n      <td>1</td>\n    </tr>\n    <tr>\n      <th>2</th>\n      <td>6,13</td>\n      <td>0.0</td>\n      <td>NaN</td>\n      <td>Да</td>\n      <td>NaN</td>\n      <td>NaN</td>\n      <td>25.0</td>\n      <td>Женский</td>\n      <td>NaN</td>\n      <td>2.0</td>\n      <td>295,34</td>\n      <td>1</td>\n    </tr>\n    <tr>\n      <th>3</th>\n      <td>16.46</td>\n      <td>0.0</td>\n      <td>57,66</td>\n      <td>Да</td>\n      <td>Бесплатный</td>\n      <td>NaN</td>\n      <td>93.0</td>\n      <td>Женский</td>\n      <td>Одинокий</td>\n      <td>0.0</td>\n      <td>NaN</td>\n      <td>1</td>\n    </tr>\n    <tr>\n      <th>4</th>\n      <td>NaN</td>\n      <td>0.0</td>\n      <td>16,01</td>\n      <td>Да</td>\n      <td>Бесплатный</td>\n      <td>CC</td>\n      <td>68.0</td>\n      <td>Женский&amp;*</td>\n      <td>NaN</td>\n      <td>0.0</td>\n      <td>99832,9</td>\n      <td>1</td>\n    </tr>\n  </tbody>\n</table>\n</div>"
     },
     "execution_count": 3,
     "metadata": {},
     "output_type": "execute_result"
    }
   ],
   "source": [
    "data.head()"
   ],
   "metadata": {
    "collapsed": false
   }
  },
  {
   "cell_type": "markdown",
   "source": [
    "Видим, что в количественных переменных `longdist`, `internat`, `local` и `income` в качестве десятичного разделителя используется как точка, так и запятая, есть пропуски, в строковых значениях категориальных переменных `gender` и `marital` встречаются символы"
   ],
   "metadata": {
    "collapsed": false
   }
  },
  {
   "cell_type": "markdown",
   "source": [
    "Посмотрим наличие дублей"
   ],
   "metadata": {
    "collapsed": false
   }
  },
  {
   "cell_type": "code",
   "execution_count": 4,
   "outputs": [
    {
     "data": {
      "text/plain": "   longdist internat local int_disc   billtype pay   age   gender marital  \\\n0      8.62      NaN  8.49      Нет  Бюджетный  CH  43.0  Мужской  _Женат   \n13     8.62      NaN  8.49      Нет  Бюджетный  CH  43.0  Мужской  _Женат   \n14     8.62      NaN  8.49      Нет  Бюджетный  CH  43.0  Мужской  _Женат   \n\n    children   income  churn  \n0        0.0  33935.8      0  \n13       0.0  33935.8      0  \n14       0.0  33935.8      0  ",
      "text/html": "<div>\n<style scoped>\n    .dataframe tbody tr th:only-of-type {\n        vertical-align: middle;\n    }\n\n    .dataframe tbody tr th {\n        vertical-align: top;\n    }\n\n    .dataframe thead th {\n        text-align: right;\n    }\n</style>\n<table border=\"1\" class=\"dataframe\">\n  <thead>\n    <tr style=\"text-align: right;\">\n      <th></th>\n      <th>longdist</th>\n      <th>internat</th>\n      <th>local</th>\n      <th>int_disc</th>\n      <th>billtype</th>\n      <th>pay</th>\n      <th>age</th>\n      <th>gender</th>\n      <th>marital</th>\n      <th>children</th>\n      <th>income</th>\n      <th>churn</th>\n    </tr>\n  </thead>\n  <tbody>\n    <tr>\n      <th>0</th>\n      <td>8.62</td>\n      <td>NaN</td>\n      <td>8.49</td>\n      <td>Нет</td>\n      <td>Бюджетный</td>\n      <td>CH</td>\n      <td>43.0</td>\n      <td>Мужской</td>\n      <td>_Женат</td>\n      <td>0.0</td>\n      <td>33935.8</td>\n      <td>0</td>\n    </tr>\n    <tr>\n      <th>13</th>\n      <td>8.62</td>\n      <td>NaN</td>\n      <td>8.49</td>\n      <td>Нет</td>\n      <td>Бюджетный</td>\n      <td>CH</td>\n      <td>43.0</td>\n      <td>Мужской</td>\n      <td>_Женат</td>\n      <td>0.0</td>\n      <td>33935.8</td>\n      <td>0</td>\n    </tr>\n    <tr>\n      <th>14</th>\n      <td>8.62</td>\n      <td>NaN</td>\n      <td>8.49</td>\n      <td>Нет</td>\n      <td>Бюджетный</td>\n      <td>CH</td>\n      <td>43.0</td>\n      <td>Мужской</td>\n      <td>_Женат</td>\n      <td>0.0</td>\n      <td>33935.8</td>\n      <td>0</td>\n    </tr>\n  </tbody>\n</table>\n</div>"
     },
     "execution_count": 4,
     "metadata": {},
     "output_type": "execute_result"
    }
   ],
   "source": [
    "data[data.duplicated(keep=False)]"
   ],
   "metadata": {
    "collapsed": false
   }
  },
  {
   "cell_type": "markdown",
   "source": [
    "Удалим дубликаты, оставив первое встретившиеся наблюдение"
   ],
   "metadata": {
    "collapsed": false
   }
  },
  {
   "cell_type": "code",
   "execution_count": 5,
   "outputs": [],
   "source": [
    "data.drop_duplicates(subset=None, keep='first', inplace=True)"
   ],
   "metadata": {
    "collapsed": false
   }
  },
  {
   "cell_type": "markdown",
   "source": [
    "Ищем бесполезные переменные, т.е. с одним уникальным значением и категориальные переменные, у которых категой столько же, сколько уникальных значений"
   ],
   "metadata": {
    "collapsed": false
   }
  },
  {
   "cell_type": "code",
   "execution_count": 6,
   "outputs": [
    {
     "data": {
      "text/plain": "             type  n_uniq\nlongdist   object    1081\ninternat   object     218\nlocal      object    1372\nint_disc   object       2\nbilltype   object       2\npay        object       4\nage       float64      80\ngender     object       4\nmarital    object       5\nchildren  float64       3\nincome     object    1434\nchurn       int64       2",
      "text/html": "<div>\n<style scoped>\n    .dataframe tbody tr th:only-of-type {\n        vertical-align: middle;\n    }\n\n    .dataframe tbody tr th {\n        vertical-align: top;\n    }\n\n    .dataframe thead th {\n        text-align: right;\n    }\n</style>\n<table border=\"1\" class=\"dataframe\">\n  <thead>\n    <tr style=\"text-align: right;\">\n      <th></th>\n      <th>type</th>\n      <th>n_uniq</th>\n    </tr>\n  </thead>\n  <tbody>\n    <tr>\n      <th>longdist</th>\n      <td>object</td>\n      <td>1081</td>\n    </tr>\n    <tr>\n      <th>internat</th>\n      <td>object</td>\n      <td>218</td>\n    </tr>\n    <tr>\n      <th>local</th>\n      <td>object</td>\n      <td>1372</td>\n    </tr>\n    <tr>\n      <th>int_disc</th>\n      <td>object</td>\n      <td>2</td>\n    </tr>\n    <tr>\n      <th>billtype</th>\n      <td>object</td>\n      <td>2</td>\n    </tr>\n    <tr>\n      <th>pay</th>\n      <td>object</td>\n      <td>4</td>\n    </tr>\n    <tr>\n      <th>age</th>\n      <td>float64</td>\n      <td>80</td>\n    </tr>\n    <tr>\n      <th>gender</th>\n      <td>object</td>\n      <td>4</td>\n    </tr>\n    <tr>\n      <th>marital</th>\n      <td>object</td>\n      <td>5</td>\n    </tr>\n    <tr>\n      <th>children</th>\n      <td>float64</td>\n      <td>3</td>\n    </tr>\n    <tr>\n      <th>income</th>\n      <td>object</td>\n      <td>1434</td>\n    </tr>\n    <tr>\n      <th>churn</th>\n      <td>int64</td>\n      <td>2</td>\n    </tr>\n  </tbody>\n</table>\n</div>"
     },
     "execution_count": 6,
     "metadata": {},
     "output_type": "execute_result"
    }
   ],
   "source": [
    "# Создаем список переменных\n",
    "cols_lst = data.columns.tolist()\n",
    "# Записываем количество уникальных значений по каждой переменной\n",
    "uniq = [data[col].nunique() for col in cols_lst]\n",
    "# Записываем тип каждой переменной\n",
    "types = data.dtypes\n",
    "pd.DataFrame({'type': types, 'n_uniq': uniq})"
   ],
   "metadata": {
    "collapsed": false
   }
  },
  {
   "cell_type": "markdown",
   "source": [
    "Бесполезных переменных нет. Но есть проблемы с количественными переменными `longdist`, `internat`, `local` и `income`, из-за десятичного разделителя - запятой, они записаны как категориальные.\n",
    "Заменим запятые на точки и преобразуем тип на float:"
   ],
   "metadata": {
    "collapsed": false
   }
  },
  {
   "cell_type": "code",
   "execution_count": 7,
   "outputs": [],
   "source": [
    "for col in ['longdist', 'internat', 'local', 'income']:\n",
    "    data[col] = data[col].str.replace(',', '.').astype('float')"
   ],
   "metadata": {
    "collapsed": false
   }
  },
  {
   "cell_type": "markdown",
   "source": [
    "Проверим типы переменных"
   ],
   "metadata": {
    "collapsed": false
   }
  },
  {
   "cell_type": "code",
   "execution_count": 8,
   "outputs": [
    {
     "name": "stdout",
     "output_type": "stream",
     "text": [
      "<class 'pandas.core.frame.DataFrame'>\n",
      "Int64Index: 1475 entries, 0 to 1476\n",
      "Data columns (total 12 columns):\n",
      " #   Column    Non-Null Count  Dtype  \n",
      "---  ------    --------------  -----  \n",
      " 0   longdist  1467 non-null   float64\n",
      " 1   internat  1469 non-null   float64\n",
      " 2   local     1466 non-null   float64\n",
      " 3   int_disc  1471 non-null   object \n",
      " 4   billtype  1450 non-null   object \n",
      " 5   pay       1470 non-null   object \n",
      " 6   age       1473 non-null   float64\n",
      " 7   gender    1469 non-null   object \n",
      " 8   marital   1471 non-null   object \n",
      " 9   children  1474 non-null   float64\n",
      " 10  income    1471 non-null   float64\n",
      " 11  churn     1475 non-null   int64  \n",
      "dtypes: float64(6), int64(1), object(5)\n",
      "memory usage: 149.8+ KB\n"
     ]
    }
   ],
   "source": [
    "data.info()"
   ],
   "metadata": {
    "collapsed": false
   }
  },
  {
   "cell_type": "markdown",
   "source": [
    "Посмотрим количество пропусков"
   ],
   "metadata": {
    "collapsed": false
   }
  },
  {
   "cell_type": "code",
   "execution_count": 9,
   "outputs": [
    {
     "data": {
      "text/plain": "longdist     8\ninternat     6\nlocal        9\nint_disc     4\nbilltype    25\npay          5\nage          2\ngender       6\nmarital      4\nchildren     1\nincome       4\nchurn        0\ndtype: int64"
     },
     "execution_count": 9,
     "metadata": {},
     "output_type": "execute_result"
    }
   ],
   "source": [
    "data.isnull().sum()"
   ],
   "metadata": {
    "collapsed": false
   }
  },
  {
   "cell_type": "markdown",
   "source": [
    "Все переменные, кроме отклика `churn`, имеют пропуски"
   ],
   "metadata": {
    "collapsed": false
   }
  },
  {
   "cell_type": "markdown",
   "source": [
    "Выведем уникальные значения по каждой категориальной переменной"
   ],
   "metadata": {
    "collapsed": false
   }
  },
  {
   "cell_type": "code",
   "execution_count": 10,
   "outputs": [
    {
     "name": "stdout",
     "output_type": "stream",
     "text": [
      "int_disc ['Нет' 'Да' nan]\n",
      "billtype ['Бюджетный' nan 'Бесплатный']\n",
      "pay ['CH' nan 'CC' 'CD' 'Auto']\n",
      "gender ['Мужской' nan 'Женский' 'Женский&*' 'Мужской&*']\n",
      "marital ['_Женат' '_Одинокий' nan 'Одинокий' 'Женат' 'Же&нат']\n"
     ]
    }
   ],
   "source": [
    "# Создаем список категориальных переменных\n",
    "cat_cols = data.select_dtypes(include=['object']).columns.tolist()\n",
    "# Получаем и выводим уникальные значения этих переменных\n",
    "for col in cat_cols:\n",
    "    print(col, data[col].unique())"
   ],
   "metadata": {
    "collapsed": false
   }
  },
  {
   "cell_type": "markdown",
   "source": [
    "Удалим лишние символы `* & _`"
   ],
   "metadata": {
    "collapsed": false
   }
  },
  {
   "cell_type": "code",
   "execution_count": 11,
   "outputs": [
    {
     "name": "stdout",
     "output_type": "stream",
     "text": [
      "gender ['Мужской' nan 'Женский']\n",
      "marital ['Женат' 'Одинокий' nan]\n"
     ]
    }
   ],
   "source": [
    "for col in ['gender', 'marital']:\n",
    "    data[col] = data[col].str.replace('[*&_]','')\n",
    "# Проверяем\n",
    "for col in ['gender', 'marital']:\n",
    "    print(col, data[col].unique())"
   ],
   "metadata": {
    "collapsed": false
   }
  },
  {
   "cell_type": "markdown",
   "source": [
    "Чтобы выявить редкие категории, посмотрим частоты категорий по категориальным переменным"
   ],
   "metadata": {
    "collapsed": false
   }
  },
  {
   "cell_type": "code",
   "execution_count": 12,
   "outputs": [
    {
     "name": "stdout",
     "output_type": "stream",
     "text": [
      "Нет    1015\n",
      "Да      456\n",
      "NaN       4\n",
      "Name: int_disc, dtype: int64\n",
      "\n",
      "Бюджетный     731\n",
      "Бесплатный    719\n",
      "NaN            25\n",
      "Name: billtype, dtype: int64\n",
      "\n",
      "CC      846\n",
      "CH      324\n",
      "Auto    297\n",
      "NaN       5\n",
      "CD        3\n",
      "Name: pay, dtype: int64\n",
      "\n",
      "Женский    743\n",
      "Мужской    726\n",
      "NaN          6\n",
      "Name: gender, dtype: int64\n",
      "\n",
      "Женат       872\n",
      "Одинокий    599\n",
      "NaN           4\n",
      "Name: marital, dtype: int64\n",
      "\n"
     ]
    }
   ],
   "source": [
    "for col in cat_cols:\n",
    "    print(data[col].value_counts(dropna=False))\n",
    "    print('')"
   ],
   "metadata": {
    "collapsed": false
   }
  },
  {
   "cell_type": "markdown",
   "source": [
    "Обнаружилась редкая категория `CD` в переменной `pay`. Заменим редкую категорию модой"
   ],
   "metadata": {
    "collapsed": false
   }
  },
  {
   "cell_type": "code",
   "execution_count": 13,
   "outputs": [],
   "source": [
    "data.loc[data['pay'] == 'CD', 'pay'] = 'CC'"
   ],
   "metadata": {
    "collapsed": false
   }
  },
  {
   "cell_type": "markdown",
   "source": [
    "### Создание новых признаков"
   ],
   "metadata": {
    "collapsed": false
   }
  },
  {
   "cell_type": "markdown",
   "source": [
    "Создадим переменную, связывающую переменные `gender` и `marital`, соединив их строковые значения"
   ],
   "metadata": {
    "collapsed": false
   }
  },
  {
   "cell_type": "code",
   "execution_count": 14,
   "outputs": [],
   "source": [
    "data['gender_marital'] = np.where(\n",
    "    (data['gender'].isnull()) | (data['marital'].isnull()),\n",
    "    np.NaN,\n",
    "    data.apply(lambda x: f\"{x['gender']} + {x['marital']}\", axis=1)\n",
    ")"
   ],
   "metadata": {
    "collapsed": false
   }
  },
  {
   "cell_type": "markdown",
   "source": [
    "Если хотя бы в одной из переменных есть пропуск, то в связь мы записываем пропуск. Такая стратегия обычно используется, когда пропуски редки, как в данном случае. Здесь значение NaN является временным, после разбиения на обучающую и тестовую выборку нужно будет заменить его модой"
   ],
   "metadata": {
    "collapsed": false
   }
  },
  {
   "cell_type": "markdown",
   "source": [
    "Создадим переменные-отношения:"
   ],
   "metadata": {
    "collapsed": false
   }
  },
  {
   "cell_type": "markdown",
   "source": [
    "Поделим возрас на длительность междугородних звонков в минутах:"
   ],
   "metadata": {
    "collapsed": false
   }
  },
  {
   "cell_type": "code",
   "execution_count": 15,
   "outputs": [],
   "source": [
    "cond = (data['age']==0) | (data['longdist']==0)\n",
    "data['ratio']= np.where(cond, 0, data['age']/data['longdist'])"
   ],
   "metadata": {
    "collapsed": false
   }
  },
  {
   "cell_type": "markdown",
   "source": [
    "Поделим длительность междугородних звонков в минутах на длительность муждународных звонков в минутах"
   ],
   "metadata": {
    "collapsed": false
   }
  },
  {
   "cell_type": "code",
   "execution_count": 16,
   "outputs": [],
   "source": [
    "cond = (data['longdist']==0) | (data['internat']==0)\n",
    "data['ratio2']= np.where(cond, 0, data['longdist']/data['internat'])"
   ],
   "metadata": {
    "collapsed": false
   }
  },
  {
   "cell_type": "markdown",
   "source": [
    "Поделим доход на возраст"
   ],
   "metadata": {
    "collapsed": false
   }
  },
  {
   "cell_type": "code",
   "execution_count": 17,
   "outputs": [],
   "source": [
    "cond = (data['income']==0) | (data['age']==0)\n",
    "data['ratio3']= np.where(cond, 0, data['income']/data['age'])"
   ],
   "metadata": {
    "collapsed": false
   }
  },
  {
   "cell_type": "markdown",
   "source": [
    "Поделим возраст на количество детей"
   ],
   "metadata": {
    "collapsed": false
   }
  },
  {
   "cell_type": "code",
   "execution_count": 18,
   "outputs": [],
   "source": [
    "cond = (data['age']==0) | (data['children']==0)\n",
    "data['ratio4']= np.where(cond, 0, data['age']/data['children'])"
   ],
   "metadata": {
    "collapsed": false
   }
  },
  {
   "cell_type": "markdown",
   "source": [
    "### Подготовка обучающей и тестовой выборок"
   ],
   "metadata": {
    "collapsed": false
   }
  },
  {
   "cell_type": "code",
   "execution_count": 19,
   "outputs": [],
   "source": [
    "X_train, X_test, y_train, y_test = train_test_split(\n",
    "    data.drop('churn',axis=1),\n",
    "    data['churn'],\n",
    "    test_size=0.3,\n",
    "    stratify=data['churn'],\n",
    "    random_state=SEED\n",
    ")"
   ],
   "metadata": {
    "collapsed": false
   }
  },
  {
   "cell_type": "markdown",
   "source": [
    "Создадим список категориальных признаков и список количественных признаков"
   ],
   "metadata": {
    "collapsed": false
   }
  },
  {
   "cell_type": "code",
   "execution_count": 20,
   "outputs": [],
   "source": [
    "cat_columns = X_train.select_dtypes(include='object').columns.tolist()\n",
    "num_columns = X_train.select_dtypes(exclude='object').columns.tolist()"
   ],
   "metadata": {
    "collapsed": false
   }
  },
  {
   "cell_type": "markdown",
   "source": [
    "Создадим трансформер, и конвейер с моделью"
   ],
   "metadata": {
    "collapsed": false
   }
  },
  {
   "cell_type": "code",
   "execution_count": 21,
   "outputs": [],
   "source": [
    "# Трансформер для категориальных переменных\n",
    "cat_pipe = Pipeline([\n",
    "    ('imp', SimpleImputer(strategy='most_frequent')),\n",
    "    ('ohe', OneHotEncoder(sparse=False, handle_unknown='ignore'))\n",
    "])"
   ],
   "metadata": {
    "collapsed": false
   }
  },
  {
   "cell_type": "code",
   "execution_count": 22,
   "outputs": [],
   "source": [
    "# Трансформер для количественных переменных\n",
    "num_pipe = Pipeline([\n",
    "    ('imp', SimpleImputer())\n",
    "    #('boxcox', PowerTransformer(method='box-cox', standardize=True))\n",
    "])"
   ],
   "metadata": {
    "collapsed": false
   }
  },
  {
   "cell_type": "markdown",
   "source": [
    "Объединяем трансформеры и предаем в ColumnTransformer"
   ],
   "metadata": {
    "collapsed": false
   }
  },
  {
   "cell_type": "code",
   "execution_count": 23,
   "outputs": [],
   "source": [
    "transformers = [('num', num_pipe, num_columns),\n",
    "                ('cat', cat_pipe, cat_columns)]\n",
    "ct = ColumnTransformer(transformers=transformers)"
   ],
   "metadata": {
    "collapsed": false
   }
  },
  {
   "cell_type": "markdown",
   "source": [
    "Создаём итоговый конвейер"
   ],
   "metadata": {
    "collapsed": false
   }
  },
  {
   "cell_type": "code",
   "execution_count": 24,
   "outputs": [],
   "source": [
    "ml_pipe = Pipeline([\n",
    "    ('tr', ct),\n",
    "    ('logreg', LogisticRegression(solver='liblinear'))\n",
    "])"
   ],
   "metadata": {
    "collapsed": false
   }
  },
  {
   "cell_type": "markdown",
   "source": [
    "Обучаем конвейер и оцениваем качество на обучающих и тестовых данных"
   ],
   "metadata": {
    "collapsed": false
   }
  },
  {
   "cell_type": "code",
   "execution_count": 25,
   "outputs": [
    {
     "name": "stdout",
     "output_type": "stream",
     "text": [
      "AUC-ROC на обучающей выборке: 0.851\n",
      "AUC-ROC на тестовой выборке: 0.845\n"
     ]
    }
   ],
   "source": [
    "ml_pipe.fit(X_train, y_train)\n",
    "print('AUC-ROC на обучающей выборке: {:.3f}'.format(\n",
    "    roc_auc_score(y_train,ml_pipe.predict_proba(X_train)[:, 1])))\n",
    "print('AUC-ROC на тестовой выборке: {:.3f}'.format(\n",
    "    roc_auc_score(y_test, ml_pipe.predict_proba(X_test)[:, 1])))"
   ],
   "metadata": {
    "collapsed": false
   }
  },
  {
   "cell_type": "markdown",
   "source": [
    "Создадим сетку значений гиперпараметров"
   ],
   "metadata": {
    "collapsed": false
   }
  },
  {
   "cell_type": "code",
   "execution_count": 26,
   "outputs": [],
   "source": [
    "param_grid = {\n",
    "    'tr__num__imp__strategy': ['mean', 'median', 'constant'],\n",
    "    'tr__cat__imp__strategy': ['most_frequent', 'constant'],\n",
    "    'logreg__C': np.logspace(-2, 1, 10)\n",
    "}"
   ],
   "metadata": {
    "collapsed": false
   }
  },
  {
   "cell_type": "markdown",
   "source": [
    "Создаем поиск по сетке и выведем наилучшие гиперпараметры, метрики на обучающей и тестовой выборке"
   ],
   "metadata": {
    "collapsed": false
   }
  },
  {
   "cell_type": "code",
   "execution_count": 27,
   "outputs": [
    {
     "name": "stdout",
     "output_type": "stream",
     "text": [
      "Наилучшие значения гиперпараметров: \n",
      "{'logreg__C': 4.6415888336127775, 'tr__cat__imp__strategy': 'most_frequent', 'tr__num__imp__strategy': 'constant'}\n",
      "Наилучшее значение AUC-ROC: 0.841\n",
      "Наилучшее значение AUC-ROC на тестовой выборке: 0.843\n"
     ]
    }
   ],
   "source": [
    "gs = GridSearchCV(ml_pipe, param_grid, cv=5, scoring='roc_auc')\n",
    "gs.fit(X_train, y_train)\n",
    "print('Наилучшие значения гиперпараметров: \\n{}'.format(gs.best_params_))\n",
    "print('Наилучшее значение AUC-ROC: {:.3f}'.format(gs.best_score_))\n",
    "print('Наилучшее значение AUC-ROC на тестовой выборке: {:.3f}'.format(\n",
    "    roc_auc_score(y_test, gs.predict_proba(X_test)[:, 1])))"
   ],
   "metadata": {
    "collapsed": false
   }
  },
  {
   "cell_type": "markdown",
   "source": [
    "Посмотрим на ROC кривую"
   ],
   "metadata": {
    "collapsed": false
   }
  },
  {
   "cell_type": "code",
   "execution_count": 28,
   "outputs": [
    {
     "data": {
      "text/plain": "<Figure size 640x480 with 1 Axes>",
      "image/png": "[encoded data removed]"
     },
     "metadata": {
      "image/png": {
       "width": 578,
       "height": 454
      }
     },
     "output_type": "display_data"
    }
   ],
   "source": [
    "fpr_test, tpr_test, tresholds_test = roc_curve(y_test, gs.predict_proba(X_test)[:, 1])\n",
    "fpr_train, tpr_train, tresholds_train = roc_curve(y_train, gs.predict_proba(X_train)[:, 1])\n",
    "plt.plot(fpr_test, tpr_test, color='red', label='test')\n",
    "plt.plot(fpr_train, tpr_train, color='green', label='train')\n",
    "plt.plot([0, 1], [0, 1], linestyle='--', color='blue')\n",
    "plt.xlim([0.0, 1.0])\n",
    "plt.ylim([0.0, 1.0])\n",
    "plt.xlabel('False Positive Rate')\n",
    "plt.ylabel('True Positive Rate')\n",
    "plt.title('ROC-кривые для тренировочной и тестовой выборок')\n",
    "plt.legend(loc='lower right', fontsize=10)\n",
    "plt.grid(True)\n",
    "plt.show()"
   ],
   "metadata": {
    "collapsed": false
   }
  },
  {
   "cell_type": "markdown",
   "source": [
    "Запишем результаты и превратим в сводную таблицу"
   ],
   "metadata": {
    "collapsed": false
   }
  },
  {
   "cell_type": "code",
   "execution_count": 29,
   "outputs": [
    {
     "data": {
      "text/plain": "                                                                           mean_test_score\nparam_logreg__C param_tr__num__imp__strategy param_tr__cat__imp__strategy                 \n4.641589        constant                     most_frequent                        0.841289\n0.215443        constant                     constant                             0.841041\n0.464159        constant                     constant                             0.840581\n1.000000        constant                     most_frequent                        0.840565\n0.046416        constant                     most_frequent                        0.840156\n1.000000        mean                         most_frequent                        0.840066\n10.000000       mean                         constant                             0.839701\n0.046416        mean                         most_frequent                        0.839550\n4.641589        mean                         most_frequent                        0.839455\n0.100000        mean                         most_frequent                        0.839397\n10.000000       constant                     most_frequent                        0.839162\n4.641589        median                       most_frequent                        0.839057\n10.000000       constant                     constant                             0.838969\n0.464159        mean                         constant                             0.838610\n1.000000        mean                         constant                             0.838505\n0.100000        constant                     most_frequent                        0.838433\n                median                       constant                             0.838355\n2.154435        constant                     constant                             0.838188\n4.641589        median                       constant                             0.838187\n0.464159        mean                         most_frequent                        0.837916\n1.000000        constant                     constant                             0.837679\n4.641589        constant                     constant                             0.837653\n10.000000       mean                         most_frequent                        0.837595\n0.100000        mean                         constant                             0.837550\n0.464159        median                       constant                             0.837372\n0.215443        median                       most_frequent                        0.837219\n                mean                         most_frequent                        0.837157\n2.154435        constant                     most_frequent                        0.837114\n1.000000        median                       most_frequent                        0.837106\n0.021544        mean                         most_frequent                        0.837040\n0.464159        median                       most_frequent                        0.837021\n10.000000       median                       most_frequent                        0.837018\n0.021544        constant                     most_frequent                        0.836982\n0.464159        constant                     most_frequent                        0.836899\n1.000000        median                       constant                             0.836665\n0.215443        mean                         constant                             0.836508\n10.000000       median                       constant                             0.836321\n2.154435        mean                         most_frequent                        0.836210\n0.100000        median                       most_frequent                        0.835693\n0.046416        mean                         constant                             0.835657\n0.100000        constant                     constant                             0.835353\n4.641589        mean                         constant                             0.835164\n2.154435        mean                         constant                             0.834834\n0.021544        constant                     constant                             0.834650\n0.010000        constant                     most_frequent                        0.834198\n0.046416        constant                     constant                             0.834153\n                median                       constant                             0.834036\n2.154435        median                       constant                             0.833958\n0.021544        median                       most_frequent                        0.833656\n0.215443        median                       constant                             0.833428\n0.010000        median                       constant                             0.833348\n2.154435        median                       most_frequent                        0.832259\n0.010000        mean                         most_frequent                        0.831716\n                median                       most_frequent                        0.831691\n                mean                         constant                             0.831682\n0.215443        constant                     most_frequent                        0.831588\n0.046416        median                       most_frequent                        0.829571\n0.010000        constant                     constant                             0.827303\n0.021544        mean                         constant                             0.826136\n                median                       constant                             0.825885",
      "text/html": "<div>\n<style scoped>\n    .dataframe tbody tr th:only-of-type {\n        vertical-align: middle;\n    }\n\n    .dataframe tbody tr th {\n        vertical-align: top;\n    }\n\n    .dataframe thead th {\n        text-align: right;\n    }\n</style>\n<table border=\"1\" class=\"dataframe\">\n  <thead>\n    <tr style=\"text-align: right;\">\n      <th></th>\n      <th></th>\n      <th></th>\n      <th>mean_test_score</th>\n    </tr>\n    <tr>\n      <th>param_logreg__C</th>\n      <th>param_tr__num__imp__strategy</th>\n      <th>param_tr__cat__imp__strategy</th>\n      <th></th>\n    </tr>\n  </thead>\n  <tbody>\n    <tr>\n      <th>4.641589</th>\n      <th>constant</th>\n      <th>most_frequent</th>\n      <td>0.841289</td>\n    </tr>\n    <tr>\n      <th>0.215443</th>\n      <th>constant</th>\n      <th>constant</th>\n      <td>0.841041</td>\n    </tr>\n    <tr>\n      <th>0.464159</th>\n      <th>constant</th>\n      <th>constant</th>\n      <td>0.840581</td>\n    </tr>\n    <tr>\n      <th>1.000000</th>\n      <th>constant</th>\n      <th>most_frequent</th>\n      <td>0.840565</td>\n    </tr>\n    <tr>\n      <th>0.046416</th>\n      <th>constant</th>\n      <th>most_frequent</th>\n      <td>0.840156</td>\n    </tr>\n    <tr>\n      <th>1.000000</th>\n      <th>mean</th>\n      <th>most_frequent</th>\n      <td>0.840066</td>\n    </tr>\n    <tr>\n      <th>10.000000</th>\n      <th>mean</th>\n      <th>constant</th>\n      <td>0.839701</td>\n    </tr>\n    <tr>\n      <th>0.046416</th>\n      <th>mean</th>\n      <th>most_frequent</th>\n      <td>0.839550</td>\n    </tr>\n    <tr>\n      <th>4.641589</th>\n      <th>mean</th>\n      <th>most_frequent</th>\n      <td>0.839455</td>\n    </tr>\n    <tr>\n      <th>0.100000</th>\n      <th>mean</th>\n      <th>most_frequent</th>\n      <td>0.839397</td>\n    </tr>\n    <tr>\n      <th>10.000000</th>\n      <th>constant</th>\n      <th>most_frequent</th>\n      <td>0.839162</td>\n    </tr>\n    <tr>\n      <th>4.641589</th>\n      <th>median</th>\n      <th>most_frequent</th>\n      <td>0.839057</td>\n    </tr>\n    <tr>\n      <th>10.000000</th>\n      <th>constant</th>\n      <th>constant</th>\n      <td>0.838969</td>\n    </tr>\n    <tr>\n      <th>0.464159</th>\n      <th>mean</th>\n      <th>constant</th>\n      <td>0.838610</td>\n    </tr>\n    <tr>\n      <th>1.000000</th>\n      <th>mean</th>\n      <th>constant</th>\n      <td>0.838505</td>\n    </tr>\n    <tr>\n      <th rowspan=\"2\" valign=\"top\">0.100000</th>\n      <th>constant</th>\n      <th>most_frequent</th>\n      <td>0.838433</td>\n    </tr>\n    <tr>\n      <th>median</th>\n      <th>constant</th>\n      <td>0.838355</td>\n    </tr>\n    <tr>\n      <th>2.154435</th>\n      <th>constant</th>\n      <th>constant</th>\n      <td>0.838188</td>\n    </tr>\n    <tr>\n      <th>4.641589</th>\n      <th>median</th>\n      <th>constant</th>\n      <td>0.838187</td>\n    </tr>\n    <tr>\n      <th>0.464159</th>\n      <th>mean</th>\n      <th>most_frequent</th>\n      <td>0.837916</td>\n    </tr>\n    <tr>\n      <th>1.000000</th>\n      <th>constant</th>\n      <th>constant</th>\n      <td>0.837679</td>\n    </tr>\n    <tr>\n      <th>4.641589</th>\n      <th>constant</th>\n      <th>constant</th>\n      <td>0.837653</td>\n    </tr>\n    <tr>\n      <th>10.000000</th>\n      <th>mean</th>\n      <th>most_frequent</th>\n      <td>0.837595</td>\n    </tr>\n    <tr>\n      <th>0.100000</th>\n      <th>mean</th>\n      <th>constant</th>\n      <td>0.837550</td>\n    </tr>\n    <tr>\n      <th>0.464159</th>\n      <th>median</th>\n      <th>constant</th>\n      <td>0.837372</td>\n    </tr>\n    <tr>\n      <th rowspan=\"2\" valign=\"top\">0.215443</th>\n      <th>median</th>\n      <th>most_frequent</th>\n      <td>0.837219</td>\n    </tr>\n    <tr>\n      <th>mean</th>\n      <th>most_frequent</th>\n      <td>0.837157</td>\n    </tr>\n    <tr>\n      <th>2.154435</th>\n      <th>constant</th>\n      <th>most_frequent</th>\n      <td>0.837114</td>\n    </tr>\n    <tr>\n      <th>1.000000</th>\n      <th>median</th>\n      <th>most_frequent</th>\n      <td>0.837106</td>\n    </tr>\n    <tr>\n      <th>0.021544</th>\n      <th>mean</th>\n      <th>most_frequent</th>\n      <td>0.837040</td>\n    </tr>\n    <tr>\n      <th>0.464159</th>\n      <th>median</th>\n      <th>most_frequent</th>\n      <td>0.837021</td>\n    </tr>\n    <tr>\n      <th>10.000000</th>\n      <th>median</th>\n      <th>most_frequent</th>\n      <td>0.837018</td>\n    </tr>\n    <tr>\n      <th>0.021544</th>\n      <th>constant</th>\n      <th>most_frequent</th>\n      <td>0.836982</td>\n    </tr>\n    <tr>\n      <th>0.464159</th>\n      <th>constant</th>\n      <th>most_frequent</th>\n      <td>0.836899</td>\n    </tr>\n    <tr>\n      <th>1.000000</th>\n      <th>median</th>\n      <th>constant</th>\n      <td>0.836665</td>\n    </tr>\n    <tr>\n      <th>0.215443</th>\n      <th>mean</th>\n      <th>constant</th>\n      <td>0.836508</td>\n    </tr>\n    <tr>\n      <th>10.000000</th>\n      <th>median</th>\n      <th>constant</th>\n      <td>0.836321</td>\n    </tr>\n    <tr>\n      <th>2.154435</th>\n      <th>mean</th>\n      <th>most_frequent</th>\n      <td>0.836210</td>\n    </tr>\n    <tr>\n      <th>0.100000</th>\n      <th>median</th>\n      <th>most_frequent</th>\n      <td>0.835693</td>\n    </tr>\n    <tr>\n      <th>0.046416</th>\n      <th>mean</th>\n      <th>constant</th>\n      <td>0.835657</td>\n    </tr>\n    <tr>\n      <th>0.100000</th>\n      <th>constant</th>\n      <th>constant</th>\n      <td>0.835353</td>\n    </tr>\n    <tr>\n      <th>4.641589</th>\n      <th>mean</th>\n      <th>constant</th>\n      <td>0.835164</td>\n    </tr>\n    <tr>\n      <th>2.154435</th>\n      <th>mean</th>\n      <th>constant</th>\n      <td>0.834834</td>\n    </tr>\n    <tr>\n      <th>0.021544</th>\n      <th>constant</th>\n      <th>constant</th>\n      <td>0.834650</td>\n    </tr>\n    <tr>\n      <th>0.010000</th>\n      <th>constant</th>\n      <th>most_frequent</th>\n      <td>0.834198</td>\n    </tr>\n    <tr>\n      <th rowspan=\"2\" valign=\"top\">0.046416</th>\n      <th>constant</th>\n      <th>constant</th>\n      <td>0.834153</td>\n    </tr>\n    <tr>\n      <th>median</th>\n      <th>constant</th>\n      <td>0.834036</td>\n    </tr>\n    <tr>\n      <th>2.154435</th>\n      <th>median</th>\n      <th>constant</th>\n      <td>0.833958</td>\n    </tr>\n    <tr>\n      <th>0.021544</th>\n      <th>median</th>\n      <th>most_frequent</th>\n      <td>0.833656</td>\n    </tr>\n    <tr>\n      <th>0.215443</th>\n      <th>median</th>\n      <th>constant</th>\n      <td>0.833428</td>\n    </tr>\n    <tr>\n      <th>0.010000</th>\n      <th>median</th>\n      <th>constant</th>\n      <td>0.833348</td>\n    </tr>\n    <tr>\n      <th>2.154435</th>\n      <th>median</th>\n      <th>most_frequent</th>\n      <td>0.832259</td>\n    </tr>\n    <tr>\n      <th rowspan=\"3\" valign=\"top\">0.010000</th>\n      <th>mean</th>\n      <th>most_frequent</th>\n      <td>0.831716</td>\n    </tr>\n    <tr>\n      <th>median</th>\n      <th>most_frequent</th>\n      <td>0.831691</td>\n    </tr>\n    <tr>\n      <th>mean</th>\n      <th>constant</th>\n      <td>0.831682</td>\n    </tr>\n    <tr>\n      <th>0.215443</th>\n      <th>constant</th>\n      <th>most_frequent</th>\n      <td>0.831588</td>\n    </tr>\n    <tr>\n      <th>0.046416</th>\n      <th>median</th>\n      <th>most_frequent</th>\n      <td>0.829571</td>\n    </tr>\n    <tr>\n      <th>0.010000</th>\n      <th>constant</th>\n      <th>constant</th>\n      <td>0.827303</td>\n    </tr>\n    <tr>\n      <th rowspan=\"2\" valign=\"top\">0.021544</th>\n      <th>mean</th>\n      <th>constant</th>\n      <td>0.826136</td>\n    </tr>\n    <tr>\n      <th>median</th>\n      <th>constant</th>\n      <td>0.825885</td>\n    </tr>\n  </tbody>\n</table>\n</div>"
     },
     "execution_count": 29,
     "metadata": {},
     "output_type": "execute_result"
    }
   ],
   "source": [
    "results = pd.DataFrame(gs.cv_results_)\n",
    "table = results.pivot_table(\n",
    "    values=['mean_test_score'],\n",
    "    index=['param_logreg__C',\n",
    "           'param_tr__num__imp__strategy',\n",
    "           'param_tr__cat__imp__strategy'])\n",
    "table.sort_values('mean_test_score',\n",
    "                  ascending=False,\n",
    "                  inplace=True)\n",
    "table"
   ],
   "metadata": {
    "collapsed": false
   }
  },
  {
   "cell_type": "markdown",
   "source": [
    "Мы нашли оптимальные значения гиперпараметров, теперь нам надо обучить конвейер с этими оптиммальными значениями на всей исторической выборке"
   ],
   "metadata": {
    "collapsed": false
   }
  },
  {
   "cell_type": "markdown",
   "source": [
    "Загружаем заново все данные"
   ],
   "metadata": {
    "collapsed": false
   }
  },
  {
   "cell_type": "code",
   "execution_count": 30,
   "outputs": [],
   "source": [
    "fulldata = pd.read_csv('Verizon.csv', sep=';')"
   ],
   "metadata": {
    "collapsed": false
   }
  },
  {
   "cell_type": "markdown",
   "source": [
    "Напишем функцию, выполняющую предварительную обработку всех исторических данных"
   ],
   "metadata": {
    "collapsed": false
   }
  },
  {
   "cell_type": "code",
   "execution_count": 31,
   "outputs": [],
   "source": [
    "def preprocessing(df):\n",
    "    # удаляем дубликаты\n",
    "    df.drop_duplicates(subset=None, keep='first', inplace=True)\n",
    "    # заменяем запятые и преобразуем тип\n",
    "    for i in ['longdist', 'internat', 'local', 'income']:\n",
    "        df[i] = df[i].str.replace(',', '.').astype('float')\n",
    "    # удаляем лишние символы\n",
    "    for i in ['gender', 'marital']:\n",
    "        df[i] = df[i].str.replace('[\\d+\\W_]','')\n",
    "    # все новые категории переменной pay заменяем модой\n",
    "    lst = ['CC', 'Auto', 'CH', np.NaN]\n",
    "    replace_new_values = lambda x: 'CC' if x not in lst else x\n",
    "    df['pay'] =df['pay'].map(replace_new_values)\n",
    "    # создаем переменную - результат совмещения\n",
    "    df['gender_marital'] = np.where(\n",
    "        (df['gender'].isnull()) | (df['marital'].isnull()),\n",
    "        np.NaN,\n",
    "        df.apply(lambda x: f\"{x['gender']} + {x['marital']}\", axis=1))\n",
    "    # создадим дополнительные переменные-отношения\n",
    "    cond = (df['age']==0) | (df['longdist']==0)\n",
    "    df['ratio']= np.where(cond, 0, df['age']/df['longdist'])\n",
    "    cond = (df['longdist']==0) | (df['internat']==0)\n",
    "    df['ratio2']= np.where(cond, 0, df['longdist']/df['internat'])\n",
    "    cond = (df['income']==0) | (df['age']==0)\n",
    "    df['ratio3']= np.where(cond, 0, df['income']/df['age'])\n",
    "    cond = (df['age']==0) | (df['children']==0)\n",
    "    df['ratio4']= np.where(cond, 0, df['age']/df['children'])\n",
    "    return df"
   ],
   "metadata": {
    "collapsed": false
   }
  },
  {
   "cell_type": "markdown",
   "source": [
    "Применим функцию ко всем историческим данным"
   ],
   "metadata": {
    "collapsed": false
   }
  },
  {
   "cell_type": "code",
   "execution_count": 32,
   "outputs": [
    {
     "data": {
      "text/plain": "   longdist  internat   local int_disc    billtype  pay   age   gender  \\\n0      8.62       NaN    8.49      Нет   Бюджетный   CH  43.0  Мужской   \n1     21.27       0.0  218.12      Нет   Бюджетный   CH  60.0      NaN   \n2      6.13       0.0     NaN       Да         NaN  NaN  25.0  Женский   \n3     16.46       0.0   57.66       Да  Бесплатный  NaN  93.0  Женский   \n4       NaN       0.0   16.01       Да  Бесплатный   CC  68.0  Женский   \n\n    marital  children    income  churn      gender_marital     ratio  ratio2  \\\n0     Женат       0.0  33935.80      0     Мужской + Женат  4.988399     NaN   \n1  Одинокий       2.0  95930.60      1                 NaN  2.820874     0.0   \n2       NaN       2.0    295.34      1                 NaN  4.078303     0.0   \n3  Одинокий       0.0       NaN      1  Женский + Одинокий  5.650061     0.0   \n4       NaN       0.0  99832.90      1                 NaN       NaN     0.0   \n\n        ratio3  ratio4  \n0   789.204651     0.0  \n1  1598.843333    30.0  \n2    11.813600    12.5  \n3          NaN     0.0  \n4  1468.130882     0.0  ",
      "text/html": "<div>\n<style scoped>\n    .dataframe tbody tr th:only-of-type {\n        vertical-align: middle;\n    }\n\n    .dataframe tbody tr th {\n        vertical-align: top;\n    }\n\n    .dataframe thead th {\n        text-align: right;\n    }\n</style>\n<table border=\"1\" class=\"dataframe\">\n  <thead>\n    <tr style=\"text-align: right;\">\n      <th></th>\n      <th>longdist</th>\n      <th>internat</th>\n      <th>local</th>\n      <th>int_disc</th>\n      <th>billtype</th>\n      <th>pay</th>\n      <th>age</th>\n      <th>gender</th>\n      <th>marital</th>\n      <th>children</th>\n      <th>income</th>\n      <th>churn</th>\n      <th>gender_marital</th>\n      <th>ratio</th>\n      <th>ratio2</th>\n      <th>ratio3</th>\n      <th>ratio4</th>\n    </tr>\n  </thead>\n  <tbody>\n    <tr>\n      <th>0</th>\n      <td>8.62</td>\n      <td>NaN</td>\n      <td>8.49</td>\n      <td>Нет</td>\n      <td>Бюджетный</td>\n      <td>CH</td>\n      <td>43.0</td>\n      <td>Мужской</td>\n      <td>Женат</td>\n      <td>0.0</td>\n      <td>33935.80</td>\n      <td>0</td>\n      <td>Мужской + Женат</td>\n      <td>4.988399</td>\n      <td>NaN</td>\n      <td>789.204651</td>\n      <td>0.0</td>\n    </tr>\n    <tr>\n      <th>1</th>\n      <td>21.27</td>\n      <td>0.0</td>\n      <td>218.12</td>\n      <td>Нет</td>\n      <td>Бюджетный</td>\n      <td>CH</td>\n      <td>60.0</td>\n      <td>NaN</td>\n      <td>Одинокий</td>\n      <td>2.0</td>\n      <td>95930.60</td>\n      <td>1</td>\n      <td>NaN</td>\n      <td>2.820874</td>\n      <td>0.0</td>\n      <td>1598.843333</td>\n      <td>30.0</td>\n    </tr>\n    <tr>\n      <th>2</th>\n      <td>6.13</td>\n      <td>0.0</td>\n      <td>NaN</td>\n      <td>Да</td>\n      <td>NaN</td>\n      <td>NaN</td>\n      <td>25.0</td>\n      <td>Женский</td>\n      <td>NaN</td>\n      <td>2.0</td>\n      <td>295.34</td>\n      <td>1</td>\n      <td>NaN</td>\n      <td>4.078303</td>\n      <td>0.0</td>\n      <td>11.813600</td>\n      <td>12.5</td>\n    </tr>\n    <tr>\n      <th>3</th>\n      <td>16.46</td>\n      <td>0.0</td>\n      <td>57.66</td>\n      <td>Да</td>\n      <td>Бесплатный</td>\n      <td>NaN</td>\n      <td>93.0</td>\n      <td>Женский</td>\n      <td>Одинокий</td>\n      <td>0.0</td>\n      <td>NaN</td>\n      <td>1</td>\n      <td>Женский + Одинокий</td>\n      <td>5.650061</td>\n      <td>0.0</td>\n      <td>NaN</td>\n      <td>0.0</td>\n    </tr>\n    <tr>\n      <th>4</th>\n      <td>NaN</td>\n      <td>0.0</td>\n      <td>16.01</td>\n      <td>Да</td>\n      <td>Бесплатный</td>\n      <td>CC</td>\n      <td>68.0</td>\n      <td>Женский</td>\n      <td>NaN</td>\n      <td>0.0</td>\n      <td>99832.90</td>\n      <td>1</td>\n      <td>NaN</td>\n      <td>NaN</td>\n      <td>0.0</td>\n      <td>1468.130882</td>\n      <td>0.0</td>\n    </tr>\n  </tbody>\n</table>\n</div>"
     },
     "execution_count": 32,
     "metadata": {},
     "output_type": "execute_result"
    }
   ],
   "source": [
    "fulldata = preprocessing(fulldata)\n",
    "fulldata.head()"
   ],
   "metadata": {
    "collapsed": false
   }
  },
  {
   "cell_type": "markdown",
   "source": [
    "Создадим массив меток и массив признаков"
   ],
   "metadata": {
    "collapsed": false
   }
  },
  {
   "cell_type": "code",
   "execution_count": 33,
   "outputs": [],
   "source": [
    "y_fulldata = fulldata.pop('churn')"
   ],
   "metadata": {
    "collapsed": false
   }
  },
  {
   "cell_type": "markdown",
   "source": [
    "Извлекаем оптимальные гиперпараметры и передаем его в конвейер"
   ],
   "metadata": {
    "collapsed": false
   }
  },
  {
   "cell_type": "code",
   "execution_count": 34,
   "outputs": [
    {
     "data": {
      "text/plain": "Pipeline(steps=[('tr',\n                 ColumnTransformer(transformers=[('num',\n                                                  Pipeline(steps=[('imp',\n                                                                   SimpleImputer(strategy='constant'))]),\n                                                  ['longdist', 'internat',\n                                                   'local', 'age', 'children',\n                                                   'income', 'ratio', 'ratio2',\n                                                   'ratio3', 'ratio4']),\n                                                 ('cat',\n                                                  Pipeline(steps=[('imp',\n                                                                   SimpleImputer(strategy='most_frequent')),\n                                                                  ('ohe',\n                                                                   OneHotEncoder(handle_unknown='ignore',\n                                                                                 sparse=False))]),\n                                                  ['int_disc', 'billtype',\n                                                   'pay', 'gender', 'marital',\n                                                   'gender_marital'])])),\n                ('logreg',\n                 LogisticRegression(C=4.6415888336127775, solver='liblinear'))])"
     },
     "execution_count": 34,
     "metadata": {},
     "output_type": "execute_result"
    }
   ],
   "source": [
    "best_params = gs.best_params_\n",
    "ml_pipe.set_params(**best_params)"
   ],
   "metadata": {
    "collapsed": false
   }
  },
  {
   "cell_type": "markdown",
   "source": [
    "Обучаем итоговый конвейер с оптимальными значениями на всех исторических данных"
   ],
   "metadata": {
    "collapsed": false
   }
  },
  {
   "cell_type": "code",
   "execution_count": 35,
   "outputs": [
    {
     "data": {
      "text/plain": "Pipeline(steps=[('tr',\n                 ColumnTransformer(transformers=[('num',\n                                                  Pipeline(steps=[('imp',\n                                                                   SimpleImputer(strategy='constant'))]),\n                                                  ['longdist', 'internat',\n                                                   'local', 'age', 'children',\n                                                   'income', 'ratio', 'ratio2',\n                                                   'ratio3', 'ratio4']),\n                                                 ('cat',\n                                                  Pipeline(steps=[('imp',\n                                                                   SimpleImputer(strategy='most_frequent')),\n                                                                  ('ohe',\n                                                                   OneHotEncoder(handle_unknown='ignore',\n                                                                                 sparse=False))]),\n                                                  ['int_disc', 'billtype',\n                                                   'pay', 'gender', 'marital',\n                                                   'gender_marital'])])),\n                ('logreg',\n                 LogisticRegression(C=4.6415888336127775, solver='liblinear'))])"
     },
     "execution_count": 35,
     "metadata": {},
     "output_type": "execute_result"
    }
   ],
   "source": [
    "ml_pipe.fit(fulldata, y_fulldata)"
   ],
   "metadata": {
    "collapsed": false
   }
  },
  {
   "cell_type": "markdown",
   "source": [
    "Загрузим новые данные и посмотрим на них"
   ],
   "metadata": {
    "collapsed": false
   }
  },
  {
   "cell_type": "code",
   "execution_count": 36,
   "outputs": [
    {
     "data": {
      "text/plain": "  longdist internat   local int_disc    billtype pay   age     gender  \\\n0    19,46     7,11   64,51      Нет   Бюджетный  CH  28.0   Женский7   \n1    18,42     6,46   28,07       Да  Бесплатный  CH  35.0  Женский&*   \n2    10,97        0      60       Да  Бесплатный  CH  45.0   Мужской$   \n3    22,18        0  149,73      Нет  Бесплатный  HH  41.0   Мужской$   \n4        0        0    4,15       Да  Бесплатный  CH  40.0  Женский&*   \n\n     marital  children   income  \n0   Одинокий       1.0    43787  \n1      Женат       2.0  47396,2  \n2      Женат       0.0  30057,4  \n3   Одинокий       1.0  21126,7  \n4  _Одинокий       2.0  81000,9  ",
      "text/html": "<div>\n<style scoped>\n    .dataframe tbody tr th:only-of-type {\n        vertical-align: middle;\n    }\n\n    .dataframe tbody tr th {\n        vertical-align: top;\n    }\n\n    .dataframe thead th {\n        text-align: right;\n    }\n</style>\n<table border=\"1\" class=\"dataframe\">\n  <thead>\n    <tr style=\"text-align: right;\">\n      <th></th>\n      <th>longdist</th>\n      <th>internat</th>\n      <th>local</th>\n      <th>int_disc</th>\n      <th>billtype</th>\n      <th>pay</th>\n      <th>age</th>\n      <th>gender</th>\n      <th>marital</th>\n      <th>children</th>\n      <th>income</th>\n    </tr>\n  </thead>\n  <tbody>\n    <tr>\n      <th>0</th>\n      <td>19,46</td>\n      <td>7,11</td>\n      <td>64,51</td>\n      <td>Нет</td>\n      <td>Бюджетный</td>\n      <td>CH</td>\n      <td>28.0</td>\n      <td>Женский7</td>\n      <td>Одинокий</td>\n      <td>1.0</td>\n      <td>43787</td>\n    </tr>\n    <tr>\n      <th>1</th>\n      <td>18,42</td>\n      <td>6,46</td>\n      <td>28,07</td>\n      <td>Да</td>\n      <td>Бесплатный</td>\n      <td>CH</td>\n      <td>35.0</td>\n      <td>Женский&amp;*</td>\n      <td>Женат</td>\n      <td>2.0</td>\n      <td>47396,2</td>\n    </tr>\n    <tr>\n      <th>2</th>\n      <td>10,97</td>\n      <td>0</td>\n      <td>60</td>\n      <td>Да</td>\n      <td>Бесплатный</td>\n      <td>CH</td>\n      <td>45.0</td>\n      <td>Мужской$</td>\n      <td>Женат</td>\n      <td>0.0</td>\n      <td>30057,4</td>\n    </tr>\n    <tr>\n      <th>3</th>\n      <td>22,18</td>\n      <td>0</td>\n      <td>149,73</td>\n      <td>Нет</td>\n      <td>Бесплатный</td>\n      <td>HH</td>\n      <td>41.0</td>\n      <td>Мужской$</td>\n      <td>Одинокий</td>\n      <td>1.0</td>\n      <td>21126,7</td>\n    </tr>\n    <tr>\n      <th>4</th>\n      <td>0</td>\n      <td>0</td>\n      <td>4,15</td>\n      <td>Да</td>\n      <td>Бесплатный</td>\n      <td>CH</td>\n      <td>40.0</td>\n      <td>Женский&amp;*</td>\n      <td>_Одинокий</td>\n      <td>2.0</td>\n      <td>81000,9</td>\n    </tr>\n  </tbody>\n</table>\n</div>"
     },
     "execution_count": 36,
     "metadata": {},
     "output_type": "execute_result"
    }
   ],
   "source": [
    "newdata = pd.read_csv('Verizon_new.csv', sep=';')\n",
    "newdata.head()"
   ],
   "metadata": {
    "collapsed": false
   }
  },
  {
   "cell_type": "markdown",
   "source": [
    "Применяем функцию предварительной подготовки"
   ],
   "metadata": {
    "collapsed": false
   }
  },
  {
   "cell_type": "code",
   "execution_count": 37,
   "outputs": [
    {
     "data": {
      "text/plain": "   longdist  internat   local int_disc    billtype pay   age   gender  \\\n0     19.46      7.11   64.51      Нет   Бюджетный  CH  28.0  Женский   \n1     18.42      6.46   28.07       Да  Бесплатный  CH  35.0  Женский   \n2     10.97      0.00   60.00       Да  Бесплатный  CH  45.0  Мужской   \n3     22.18      0.00  149.73      Нет  Бесплатный  CC  41.0  Мужской   \n4      0.00      0.00    4.15       Да  Бесплатный  CH  40.0  Женский   \n\n    marital  children   income      gender_marital     ratio    ratio2  \\\n0  Одинокий       1.0  43787.0  Женский + Одинокий  1.438849  2.736990   \n1     Женат       2.0  47396.2     Женский + Женат  1.900109  2.851393   \n2     Женат       0.0  30057.4     Мужской + Женат  4.102097  0.000000   \n3  Одинокий       1.0  21126.7  Мужской + Одинокий  1.848512  0.000000   \n4  Одинокий       2.0  81000.9  Женский + Одинокий  0.000000  0.000000   \n\n        ratio3  ratio4  \n0  1563.821429    28.0  \n1  1354.177143    17.5  \n2   667.942222     0.0  \n3   515.285366    41.0  \n4  2025.022500    20.0  ",
      "text/html": "<div>\n<style scoped>\n    .dataframe tbody tr th:only-of-type {\n        vertical-align: middle;\n    }\n\n    .dataframe tbody tr th {\n        vertical-align: top;\n    }\n\n    .dataframe thead th {\n        text-align: right;\n    }\n</style>\n<table border=\"1\" class=\"dataframe\">\n  <thead>\n    <tr style=\"text-align: right;\">\n      <th></th>\n      <th>longdist</th>\n      <th>internat</th>\n      <th>local</th>\n      <th>int_disc</th>\n      <th>billtype</th>\n      <th>pay</th>\n      <th>age</th>\n      <th>gender</th>\n      <th>marital</th>\n      <th>children</th>\n      <th>income</th>\n      <th>gender_marital</th>\n      <th>ratio</th>\n      <th>ratio2</th>\n      <th>ratio3</th>\n      <th>ratio4</th>\n    </tr>\n  </thead>\n  <tbody>\n    <tr>\n      <th>0</th>\n      <td>19.46</td>\n      <td>7.11</td>\n      <td>64.51</td>\n      <td>Нет</td>\n      <td>Бюджетный</td>\n      <td>CH</td>\n      <td>28.0</td>\n      <td>Женский</td>\n      <td>Одинокий</td>\n      <td>1.0</td>\n      <td>43787.0</td>\n      <td>Женский + Одинокий</td>\n      <td>1.438849</td>\n      <td>2.736990</td>\n      <td>1563.821429</td>\n      <td>28.0</td>\n    </tr>\n    <tr>\n      <th>1</th>\n      <td>18.42</td>\n      <td>6.46</td>\n      <td>28.07</td>\n      <td>Да</td>\n      <td>Бесплатный</td>\n      <td>CH</td>\n      <td>35.0</td>\n      <td>Женский</td>\n      <td>Женат</td>\n      <td>2.0</td>\n      <td>47396.2</td>\n      <td>Женский + Женат</td>\n      <td>1.900109</td>\n      <td>2.851393</td>\n      <td>1354.177143</td>\n      <td>17.5</td>\n    </tr>\n    <tr>\n      <th>2</th>\n      <td>10.97</td>\n      <td>0.00</td>\n      <td>60.00</td>\n      <td>Да</td>\n      <td>Бесплатный</td>\n      <td>CH</td>\n      <td>45.0</td>\n      <td>Мужской</td>\n      <td>Женат</td>\n      <td>0.0</td>\n      <td>30057.4</td>\n      <td>Мужской + Женат</td>\n      <td>4.102097</td>\n      <td>0.000000</td>\n      <td>667.942222</td>\n      <td>0.0</td>\n    </tr>\n    <tr>\n      <th>3</th>\n      <td>22.18</td>\n      <td>0.00</td>\n      <td>149.73</td>\n      <td>Нет</td>\n      <td>Бесплатный</td>\n      <td>CC</td>\n      <td>41.0</td>\n      <td>Мужской</td>\n      <td>Одинокий</td>\n      <td>1.0</td>\n      <td>21126.7</td>\n      <td>Мужской + Одинокий</td>\n      <td>1.848512</td>\n      <td>0.000000</td>\n      <td>515.285366</td>\n      <td>41.0</td>\n    </tr>\n    <tr>\n      <th>4</th>\n      <td>0.00</td>\n      <td>0.00</td>\n      <td>4.15</td>\n      <td>Да</td>\n      <td>Бесплатный</td>\n      <td>CH</td>\n      <td>40.0</td>\n      <td>Женский</td>\n      <td>Одинокий</td>\n      <td>2.0</td>\n      <td>81000.9</td>\n      <td>Женский + Одинокий</td>\n      <td>0.000000</td>\n      <td>0.000000</td>\n      <td>2025.022500</td>\n      <td>20.0</td>\n    </tr>\n  </tbody>\n</table>\n</div>"
     },
     "execution_count": 37,
     "metadata": {},
     "output_type": "execute_result"
    }
   ],
   "source": [
    "newdata = preprocessing(newdata)\n",
    "newdata.head()"
   ],
   "metadata": {
    "collapsed": false
   }
  },
  {
   "cell_type": "markdown",
   "source": [
    "Напишем функцию, проверяющую порядок признаков в наборах. В ряде ситуаций несовпадение порядка столбцов в историческом наборе и наборе новых данных может дать некорректные результаты."
   ],
   "metadata": {
    "collapsed": false
   }
  },
  {
   "cell_type": "code",
   "execution_count": 38,
   "outputs": [],
   "source": [
    "def check_vars_order(hist_data, new_data):\n",
    "    if hist_data == new_data:\n",
    "        print('Одни и те же списки переменных, '+\n",
    "              'один и тот же порядок.')\n",
    "    elif sorted(hist_data) == sorted(new_data):\n",
    "        print('Одни и те же списки переменных, '+\n",
    "              'разный порядок.')\n",
    "    else:\n",
    "        print('Совершенно разные списки переменных.')"
   ],
   "metadata": {
    "collapsed": false
   }
  },
  {
   "cell_type": "markdown",
   "source": [
    "Выполним проверку на историческом наборе и новых данных"
   ],
   "metadata": {
    "collapsed": false
   }
  },
  {
   "cell_type": "code",
   "execution_count": 39,
   "outputs": [
    {
     "name": "stdout",
     "output_type": "stream",
     "text": [
      "Одни и те же списки переменных, один и тот же порядок.\n"
     ]
    }
   ],
   "source": [
    "# Создадим списки переменных для наборов данных\n",
    "fulldata_cols = fulldata.columns.tolist()\n",
    "newdata_cols = newdata.columns.tolist()\n",
    "check_vars_order(fulldata_cols, newdata_cols)"
   ],
   "metadata": {
    "collapsed": false
   }
  },
  {
   "cell_type": "markdown",
   "source": [
    "Используя конвейер с оптимальными гиперпараметрами, обученный на всей исторической выборке, вычислим вероятности классов для новых данных"
   ],
   "metadata": {
    "collapsed": false
   }
  },
  {
   "cell_type": "code",
   "execution_count": 40,
   "outputs": [
    {
     "data": {
      "text/plain": "array([[0.10273417, 0.89726583],\n       [0.08979415, 0.91020585],\n       [0.83668686, 0.16331314],\n       [0.90567065, 0.09432935],\n       [0.30900604, 0.69099396]])"
     },
     "execution_count": 40,
     "metadata": {},
     "output_type": "execute_result"
    }
   ],
   "source": [
    "proba = ml_pipe.predict_proba(newdata)\n",
    "proba[:5]"
   ],
   "metadata": {
    "collapsed": false
   }
  },
  {
   "cell_type": "markdown",
   "source": [
    "# Вывод"
   ],
   "metadata": {
    "collapsed": false
   }
  },
  {
   "cell_type": "markdown",
   "source": [
    "1. В данном проекте основной целью ставилась задача по созданию конвейера для применения на реальной задаче, когда нужно спрогнозировать вероятности оттока клиентов на новых данных.\n",
    "2. В качестве модели использовалась только логистическая регрессия. т.к. основной упор сделан на формировании конвейера, то для упрощения оставлена только одна модель. Добавить другие модели классификации, при появлении необходимости,не составит труда.\n",
    "3. Выполнена:\n",
    "   * Предварительная обработка данных\n",
    "   * Обработаны дубликаты\n",
    "   * Добавлены новые признаки отношения\n",
    "4. Подготовлены трансформеры и конвейеры для преобразования данных.\n",
    "5. На размеченном датасете выполнено разделение на тренировочную и тестовую выборки\n",
    "6. С помощью перебора по сетке с использованием кросс-валидации получены оптимальные гиперпараметры\n",
    "7. Затем с полученными оптимальными гиперпараметрами модель обучена на полном датасете.\n",
    "8. Для новых данных рассчитаны вероятности оттока клиентов\n",
    "9. На основе полученных вероятностей, используя граничное значение вероятности, можно получить список клиентов с риском ухода для предложения им скидки или промокода"
   ],
   "metadata": {
    "collapsed": false
   }
  }
 ],
 "metadata": {
  "kernelspec": {
   "display_name": "Python 3",
   "language": "python",
   "name": "python3"
  },
  "language_info": {
   "codemirror_mode": {
    "name": "ipython",
    "version": 2
   },
   "file_extension": ".py",
   "mimetype": "text/x-python",
   "name": "python",
   "nbconvert_exporter": "python",
   "pygments_lexer": "ipython2",
   "version": "2.7.6"
  }
 },
 "nbformat": 4,
 "nbformat_minor": 0
}
