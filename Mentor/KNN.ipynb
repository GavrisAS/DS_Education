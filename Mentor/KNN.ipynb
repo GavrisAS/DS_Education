{
 "cells": [
  {
   "cell_type": "code",
   "execution_count": 1,
   "outputs": [],
   "source": [
    "import numpy as np\n",
    "import math"
   ],
   "metadata": {
    "collapsed": false,
    "pycharm": {
     "name": "#%%\n"
    }
   }
  },
  {
   "cell_type": "code",
   "execution_count": 2,
   "metadata": {
    "collapsed": true,
    "pycharm": {
     "name": "#%%\n"
    }
   },
   "outputs": [],
   "source": [
    "class KNN():\n",
    "    \"\"\"\n",
    "    KNN-классификатор\n",
    "\n",
    "    Параметры:\n",
    "    ----------\n",
    "    k: int\n",
    "      Количество ближайших соседей, которое определяет\n",
    "      класс предсказываемого наблюдения.\n",
    "\n",
    "    \"\"\"\n",
    "    # пишем защищенный метод, вычисляющий евклидово расстояние\n",
    "    def _euclidean_distance(self, x1, x2):\n",
    "        \"\"\"\n",
    "        Вычисляет евклидово расстояние между двумя векторами\n",
    "        \"\"\"\n",
    "        distance = 0\n",
    "        for i in range(len(x1)):\n",
    "            distance += pow((x1[i] - x2[i]), 2)\n",
    "        return math.sqrt(distance)\n",
    "\n",
    "    # пишем защищенный метод голосования\n",
    "    def _vote(self, neighbor_labels):\n",
    "        \"\"\"\n",
    "        Возвращает самый часто встречающийся класс\n",
    "        среди ближайших соседей\n",
    "        \"\"\"\n",
    "        # подсчитываем абсолютные частоты классов\n",
    "        # для каждого наблюдения\n",
    "        # возвращаем индекс максимального значения -\n",
    "        # максимальной абсолютной частоты в случае классификации\n",
    "        # и среднее значение - в случае регрессии\n",
    "        if self.regression_mode:\n",
    "            result = neighbor_labels.mean()\n",
    "        else:\n",
    "            counts = np.bincount(neighbor_labels.astype('int'))\n",
    "            if self.cut_off is None:\n",
    "                result = counts.argmax()\n",
    "            else:\n",
    "                result = counts.argmax() if counts.max()/counts.sum() >= self.cut_off else np.nan\n",
    "        return result\n",
    "\n",
    "    def __init__(self, k=5, task='classification', cut_off=None):\n",
    "        # инициализируем k - количество ближайших соседей\n",
    "        # режим classification (по-умолчанию) и regression\n",
    "        # cut_off - порог для классификации, по-умолчанию None\n",
    "        # и возвращается класс с максимальной частотой\n",
    "        self.k = k\n",
    "        self.cut_off = cut_off\n",
    "        # инициализируем тип задачи\n",
    "        self.regression_mode = False\n",
    "        if task == 'regression':\n",
    "            self.regression_mode = True\n",
    "        # создаем пустой список, в котором будем\n",
    "        # хранить ближайших соседей для\n",
    "        # каждого наблюдения тестового набора\n",
    "        self.k_nearest_neighbors_ = []\n",
    "\n",
    "    def fit(self, X, y):\n",
    "        # просто запоминаем обучающий массив признаков\n",
    "        # и обучающий массив меток\n",
    "        self.X_memorized = X\n",
    "        self.y_memorized = y\n",
    "\n",
    "    def predict(self, X):\n",
    "        # создаем массив прогнозов, равный\n",
    "        # длине тестового набора\n",
    "        y_pred = np.empty(X.shape[0])\n",
    "        # для каждого наблюдения тестового набора\n",
    "        # предсказываем наиболее часто встречающийся\n",
    "        # класс среди k ближайших соседей\n",
    "        for i, test_sample in enumerate(X):\n",
    "            idx = np.argsort([self._euclidean_distance(test_sample, x)\n",
    "                              for x in self.X_memorized])[:self.k]\n",
    "            k_nearest_neighbors = np.array([self.y_memorized[i]\n",
    "                                           for i in idx])\n",
    "            self.k_nearest_neighbors_.append(k_nearest_neighbors)\n",
    "            y_pred[i] = self._vote(self.k_nearest_neighbors_[i])\n",
    "\n",
    "        return y_pred"
   ]
  },
  {
   "cell_type": "code",
   "execution_count": 3,
   "outputs": [],
   "source": [
    "X_trn = np.array([[0.1, 0.2, 0.3],\n",
    "                  [0.7, 0.5, 0.2],\n",
    "                  [0.1, 0.2, 0.2],\n",
    "                  [0.9, 0.7, 3.5],\n",
    "                  [0.2, 0.4, 1.4],\n",
    "                  [0.4, 0.1, 0.5]])\n",
    "y_trn = np.array([1, 0, 1, 0, 0, 1])\n",
    "X_tst = np.array([[0.1, 0.7, 1.1],\n",
    "                  [0.5, 0.3, 2.8],\n",
    "                  [0.1, 0.1, 0.2],\n",
    "                  [0.9, 0.7, 1.5]])"
   ],
   "metadata": {
    "collapsed": false,
    "pycharm": {
     "name": "#%%\n"
    }
   }
  },
  {
   "cell_type": "markdown",
   "source": [
    "Режим классификации"
   ],
   "metadata": {
    "collapsed": false,
    "pycharm": {
     "name": "#%% md\n"
    }
   }
  },
  {
   "cell_type": "code",
   "execution_count": 4,
   "outputs": [
    {
     "data": {
      "text/plain": "array([1., 0., 1., 0.])"
     },
     "execution_count": 4,
     "metadata": {},
     "output_type": "execute_result"
    }
   ],
   "source": [
    "knn_class = KNN(k=3)\n",
    "knn_class.fit(X_trn, y_trn)\n",
    "pred_class = knn_class.predict(X_tst)\n",
    "pred_class"
   ],
   "metadata": {
    "collapsed": false,
    "pycharm": {
     "name": "#%%\n"
    }
   }
  },
  {
   "cell_type": "markdown",
   "source": [
    "Режим регрессии"
   ],
   "metadata": {
    "collapsed": false,
    "pycharm": {
     "name": "#%% md\n"
    }
   }
  },
  {
   "cell_type": "code",
   "execution_count": 5,
   "outputs": [
    {
     "data": {
      "text/plain": "array([0.66666667, 0.33333333, 1.        , 0.33333333])"
     },
     "execution_count": 5,
     "metadata": {},
     "output_type": "execute_result"
    }
   ],
   "source": [
    "knn_regress = KNN(k=3, task='regression')\n",
    "knn_regress.fit(X_trn, y_trn)\n",
    "pred_regress = knn_regress.predict(X_tst)\n",
    "pred_regress"
   ],
   "metadata": {
    "collapsed": false,
    "pycharm": {
     "name": "#%%\n"
    }
   }
  },
  {
   "cell_type": "code",
   "execution_count": 6,
   "outputs": [
    {
     "data": {
      "text/plain": "[array([0, 1, 1]), array([0, 0, 1]), array([1, 1, 1]), array([0, 1, 0])]"
     },
     "execution_count": 6,
     "metadata": {},
     "output_type": "execute_result"
    }
   ],
   "source": [
    "knn_class.k_nearest_neighbors_"
   ],
   "metadata": {
    "collapsed": false,
    "pycharm": {
     "name": "#%%\n"
    }
   }
  },
  {
   "cell_type": "code",
   "execution_count": 7,
   "outputs": [
    {
     "data": {
      "text/plain": "[array([0, 1, 1]), array([0, 0, 1]), array([1, 1, 1]), array([0, 1, 0])]"
     },
     "execution_count": 7,
     "metadata": {},
     "output_type": "execute_result"
    }
   ],
   "source": [
    "knn_regress.k_nearest_neighbors_"
   ],
   "metadata": {
    "collapsed": false,
    "pycharm": {
     "name": "#%%\n"
    }
   }
  },
  {
   "cell_type": "markdown",
   "source": [
    "Посмотрим классификацию с порогом\n",
    "т.к. используем эти синтетические данные, то установим порог 0.7, чтоб вошли только все единицы"
   ],
   "metadata": {
    "collapsed": false,
    "pycharm": {
     "name": "#%% md\n"
    }
   }
  },
  {
   "cell_type": "code",
   "execution_count": 8,
   "outputs": [
    {
     "data": {
      "text/plain": "array([nan, nan,  1., nan])"
     },
     "execution_count": 8,
     "metadata": {},
     "output_type": "execute_result"
    }
   ],
   "source": [
    "knn_class_cut = KNN(k=3, cut_off=0.7)\n",
    "knn_class_cut.fit(X_trn, y_trn)\n",
    "pred_class_cut = knn_class_cut.predict(X_tst)\n",
    "pred_class_cut"
   ],
   "metadata": {
    "collapsed": false,
    "pycharm": {
     "name": "#%%\n"
    }
   }
  },
  {
   "cell_type": "code",
   "execution_count": 9,
   "outputs": [
    {
     "data": {
      "text/plain": "[array([0, 1, 1]), array([0, 0, 1]), array([1, 1, 1]), array([0, 1, 0])]"
     },
     "execution_count": 9,
     "metadata": {},
     "output_type": "execute_result"
    }
   ],
   "source": [
    "knn_class_cut.k_nearest_neighbors_"
   ],
   "metadata": {
    "collapsed": false,
    "pycharm": {
     "name": "#%%\n"
    }
   }
  }
 ],
 "metadata": {
  "kernelspec": {
   "display_name": "Python 3",
   "language": "python",
   "name": "python3"
  },
  "language_info": {
   "codemirror_mode": {
    "name": "ipython",
    "version": 2
   },
   "file_extension": ".py",
   "mimetype": "text/x-python",
   "name": "python",
   "nbconvert_exporter": "python",
   "pygments_lexer": "ipython2",
   "version": "2.7.6"
  }
 },
 "nbformat": 4,
 "nbformat_minor": 0
}